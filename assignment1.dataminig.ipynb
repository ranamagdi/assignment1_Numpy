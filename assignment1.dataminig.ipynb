{
 "cells": [
  {
   "cell_type": "code",
   "execution_count": 1,
   "metadata": {},
   "outputs": [],
   "source": [
    "import numpy as np"
   ]
  },
  {
   "cell_type": "code",
   "execution_count": 13,
   "metadata": {},
   "outputs": [],
   "source": [
    "def randomization(n):\n",
    "    \"\"\"\n",
    "    Arg:\n",
    "      n - an integer\n",
    "    Returns:\n",
    "      A - a randomly-generated nx1 Numpy array.\n",
    "    \"\"\"\n",
    "    #Your code here\n",
    "    A = np.random.random([n,1])\n",
    "    return A\n",
    "    raise NotImplementedError\n"
   ]
  },
  {
   "cell_type": "code",
   "execution_count": 14,
   "metadata": {},
   "outputs": [
    {
     "data": {
      "text/plain": [
       "array([[0.53415346],\n",
       "       [0.82852436],\n",
       "       [0.8130714 ]])"
      ]
     },
     "execution_count": 14,
     "metadata": {},
     "output_type": "execute_result"
    }
   ],
   "source": [
    "randomization(3)"
   ]
  },
  {
   "cell_type": "code",
   "execution_count": 15,
   "metadata": {},
   "outputs": [],
   "source": [
    "def operations(h, w):\n",
    "    \"\"\"\n",
    "    Takes two inputs, h and w, and makes two Numpy arrays A and B of size\n",
    "    h x w, and returns A, B, and s, the sum of A and B.\n",
    "\n",
    "    Arg:\n",
    "      h - an integer describing the height of A and B\n",
    "      w - an integer describing the width of A and B\n",
    "    Returns (in this order):\n",
    "      A - a randomly-generated h x w Numpy array.\n",
    "      B - a randomly-generated h x w Numpy array.\n",
    "      s - the sum of A and B.\n",
    "    \"\"\"\n",
    "    #Your code here\n",
    "    A = np.random.random([h,w])\n",
    "    B = np.random.random([h,w])\n",
    "    S=A+B\n",
    "    return A,B,S\n",
    "   \n",
    "    raise NotImplementedError"
   ]
  },
  {
   "cell_type": "code",
   "execution_count": 16,
   "metadata": {},
   "outputs": [
    {
     "data": {
      "text/plain": [
       "(array([[0.78090914, 0.84769036],\n",
       "        [0.41716717, 0.91119477]]),\n",
       " array([[0.30651335, 0.93407496],\n",
       "        [0.1461605 , 0.54231367]]),\n",
       " array([[1.08742249, 1.78176532],\n",
       "        [0.56332767, 1.45350844]]))"
      ]
     },
     "execution_count": 16,
     "metadata": {},
     "output_type": "execute_result"
    }
   ],
   "source": [
    "operations(2, 2)"
   ]
  },
  {
   "cell_type": "code",
   "execution_count": 18,
   "metadata": {},
   "outputs": [],
   "source": [
    "def norm(A, B):\n",
    "    \"\"\"\n",
    "    Takes two Numpy column arrays, A and B, and returns the L2 norm of their\n",
    "    sum.\n",
    "\n",
    "    Arg:\n",
    "      A - a Numpy array\n",
    "      B - a Numpy array\n",
    "    Returns:\n",
    "      s - the L2 norm of A+B.\n",
    "    \"\"\"\n",
    "    #Your code here\n",
    "   \n",
    "   \n",
    "    s = np.linalg.norm(A + B)\n",
    "    return s\n",
    "    raise NotImplementedError\n"
   ]
  },
  {
   "cell_type": "code",
   "execution_count": 20,
   "metadata": {},
   "outputs": [],
   "source": [
    " A = np.random.random([4,])"
   ]
  },
  {
   "cell_type": "code",
   "execution_count": 21,
   "metadata": {},
   "outputs": [
    {
     "data": {
      "text/plain": [
       "array([0.48069035, 0.78059289, 0.37779052, 0.86664175])"
      ]
     },
     "execution_count": 21,
     "metadata": {},
     "output_type": "execute_result"
    }
   ],
   "source": [
    "A"
   ]
  },
  {
   "cell_type": "code",
   "execution_count": 22,
   "metadata": {},
   "outputs": [],
   "source": [
    " B = np.random.random([4,])"
   ]
  },
  {
   "cell_type": "code",
   "execution_count": 23,
   "metadata": {},
   "outputs": [
    {
     "data": {
      "text/plain": [
       "1.8818144196056785"
      ]
     },
     "execution_count": 23,
     "metadata": {},
     "output_type": "execute_result"
    }
   ],
   "source": [
    " norm(A, B)"
   ]
  },
  {
   "cell_type": "code",
   "execution_count": 24,
   "metadata": {},
   "outputs": [],
   "source": [
    "def neural_network(inputs, weights):\n",
    "    \"\"\"\n",
    "     Takes an input vector and runs it through a 1-layer neural network\n",
    "     with a given weight matrix and returns the output.\n",
    "\n",
    "     Arg:\n",
    "       inputs - 2 x 1 NumPy array\n",
    "       weights - 2 x 1 NumPy array\n",
    "     Returns (in this order):\n",
    "       out - a 1 x 1 NumPy array, representing the output of the neural network\n",
    "    \"\"\"\n",
    "    #Your code here\n",
    "    return np.tanh(np.matmul(weights.transpose(), inputs))\n",
    "    raise NotImplementedError\n"
   ]
  },
  {
   "cell_type": "code",
   "execution_count": 25,
   "metadata": {},
   "outputs": [
    {
     "data": {
      "text/plain": [
       "array([[0.72987588]])"
      ]
     },
     "execution_count": 25,
     "metadata": {},
     "output_type": "execute_result"
    }
   ],
   "source": [
    "neural_network(np.random.random([2, 1]), np.random.random([2, 1]))"
   ]
  },
  {
   "cell_type": "code",
   "execution_count": 31,
   "metadata": {},
   "outputs": [],
   "source": [
    "def scalar_function(x, y):\n",
    "    \"\"\"\n",
    "    Returns the f(x,y) defined in the problem statement.\n",
    "    \"\"\"\n",
    "    #Your code here\n",
    "    if x<=y: \n",
    "        return x * y\n",
    "    else  :\n",
    "        return  x/y\n",
    "    raise NotImplementedError"
   ]
  },
  {
   "cell_type": "code",
   "execution_count": 32,
   "metadata": {},
   "outputs": [
    {
     "data": {
      "text/plain": [
       "1.5"
      ]
     },
     "execution_count": 32,
     "metadata": {},
     "output_type": "execute_result"
    }
   ],
   "source": [
    "scalar_function(3, 2)"
   ]
  },
  {
   "cell_type": "code",
   "execution_count": 33,
   "metadata": {},
   "outputs": [
    {
     "data": {
      "text/plain": [
       "9"
      ]
     },
     "execution_count": 33,
     "metadata": {},
     "output_type": "execute_result"
    }
   ],
   "source": [
    "scalar_function(3, 3)"
   ]
  },
  {
   "cell_type": "code",
   "execution_count": 34,
   "metadata": {},
   "outputs": [
    {
     "data": {
      "text/plain": [
       "2.0"
      ]
     },
     "execution_count": 34,
     "metadata": {},
     "output_type": "execute_result"
    }
   ],
   "source": [
    "scalar_function(4, 2)"
   ]
  },
  {
   "cell_type": "code",
   "execution_count": 35,
   "metadata": {},
   "outputs": [
    {
     "data": {
      "text/plain": [
       "10"
      ]
     },
     "execution_count": 35,
     "metadata": {},
     "output_type": "execute_result"
    }
   ],
   "source": [
    "scalar_function(2, 5)"
   ]
  },
  {
   "cell_type": "code",
   "execution_count": 41,
   "metadata": {},
   "outputs": [],
   "source": [
    "def vector_function(x, y):\n",
    "    \"\"\"\n",
    "    Make sure vector_function can deal with vector input x,y \n",
    "    \"\"\"\n",
    "    #Your code here\n",
    "    output = np.vectorize(scalar_function)\n",
    "    return output(x,y)\n",
    "    raise NotImplementedError"
   ]
  },
  {
   "cell_type": "code",
   "execution_count": 42,
   "metadata": {},
   "outputs": [
    {
     "data": {
      "text/plain": [
       "array(1.5)"
      ]
     },
     "execution_count": 42,
     "metadata": {},
     "output_type": "execute_result"
    }
   ],
   "source": [
    "vector_function(3,2)"
   ]
  },
  {
   "cell_type": "code",
   "execution_count": 43,
   "metadata": {},
   "outputs": [
    {
     "data": {
      "text/plain": [
       "array(10)"
      ]
     },
     "execution_count": 43,
     "metadata": {},
     "output_type": "execute_result"
    }
   ],
   "source": [
    "vector_function(2,5)"
   ]
  },
  {
   "cell_type": "code",
   "execution_count": 44,
   "metadata": {},
   "outputs": [
    {
     "data": {
      "text/plain": [
       "array(9)"
      ]
     },
     "execution_count": 44,
     "metadata": {},
     "output_type": "execute_result"
    }
   ],
   "source": [
    "vector_function(3,3)"
   ]
  },
  {
   "cell_type": "code",
   "execution_count": null,
   "metadata": {},
   "outputs": [],
   "source": []
  }
 ],
 "metadata": {
  "kernelspec": {
   "display_name": "Python 3",
   "language": "python",
   "name": "python3"
  },
  "language_info": {
   "codemirror_mode": {
    "name": "ipython",
    "version": 3
   },
   "file_extension": ".py",
   "mimetype": "text/x-python",
   "name": "python",
   "nbconvert_exporter": "python",
   "pygments_lexer": "ipython3",
   "version": "3.8.5"
  }
 },
 "nbformat": 4,
 "nbformat_minor": 4
}
